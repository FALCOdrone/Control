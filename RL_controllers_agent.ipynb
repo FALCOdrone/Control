{
 "cells": [
  {
   "cell_type": "markdown",
   "metadata": {},
   "source": [
    "The goal is to create a RL agent that is capable of finding the pid gains for a quadcopter control system"
   ]
  },
  {
   "cell_type": "code",
   "execution_count": 2,
   "metadata": {},
   "outputs": [
    {
     "name": "stdout",
     "output_type": "stream",
     "text": [
      "Requirement already satisfied: gym in /Users/ortol/miniforge3/lib/python3.12/site-packages (0.26.2)\n",
      "Requirement already satisfied: pybullet in /Users/ortol/miniforge3/lib/python3.12/site-packages (3.2.7)\n",
      "Requirement already satisfied: numpy in /Users/ortol/miniforge3/lib/python3.12/site-packages (2.2.3)\n",
      "Requirement already satisfied: stable-baselines3 in /Users/ortol/miniforge3/lib/python3.12/site-packages (2.5.0)\n",
      "Requirement already satisfied: cloudpickle>=1.2.0 in /Users/ortol/miniforge3/lib/python3.12/site-packages (from gym) (3.1.1)\n",
      "Requirement already satisfied: gym_notices>=0.0.4 in /Users/ortol/miniforge3/lib/python3.12/site-packages (from gym) (0.0.8)\n",
      "Requirement already satisfied: gymnasium<1.1.0,>=0.29.1 in /Users/ortol/miniforge3/lib/python3.12/site-packages (from stable-baselines3) (1.0.0)\n",
      "Requirement already satisfied: torch<3.0,>=2.3 in /Users/ortol/miniforge3/lib/python3.12/site-packages (from stable-baselines3) (2.6.0)\n",
      "Requirement already satisfied: pandas in /Users/ortol/miniforge3/lib/python3.12/site-packages (from stable-baselines3) (2.2.3)\n",
      "Requirement already satisfied: matplotlib in /Users/ortol/miniforge3/lib/python3.12/site-packages (from stable-baselines3) (3.10.1)\n",
      "Requirement already satisfied: typing-extensions>=4.3.0 in /Users/ortol/miniforge3/lib/python3.12/site-packages (from gymnasium<1.1.0,>=0.29.1->stable-baselines3) (4.12.2)\n",
      "Requirement already satisfied: farama-notifications>=0.0.1 in /Users/ortol/miniforge3/lib/python3.12/site-packages (from gymnasium<1.1.0,>=0.29.1->stable-baselines3) (0.0.4)\n",
      "Requirement already satisfied: filelock in /Users/ortol/miniforge3/lib/python3.12/site-packages (from torch<3.0,>=2.3->stable-baselines3) (3.18.0)\n",
      "Requirement already satisfied: networkx in /Users/ortol/miniforge3/lib/python3.12/site-packages (from torch<3.0,>=2.3->stable-baselines3) (3.4.2)\n",
      "Requirement already satisfied: jinja2 in /Users/ortol/miniforge3/lib/python3.12/site-packages (from torch<3.0,>=2.3->stable-baselines3) (3.1.6)\n",
      "Requirement already satisfied: fsspec in /Users/ortol/miniforge3/lib/python3.12/site-packages (from torch<3.0,>=2.3->stable-baselines3) (2025.3.0)\n",
      "Requirement already satisfied: setuptools in /Users/ortol/miniforge3/lib/python3.12/site-packages (from torch<3.0,>=2.3->stable-baselines3) (75.3.0)\n",
      "Requirement already satisfied: sympy==1.13.1 in /Users/ortol/miniforge3/lib/python3.12/site-packages (from torch<3.0,>=2.3->stable-baselines3) (1.13.1)\n",
      "Requirement already satisfied: mpmath<1.4,>=1.1.0 in /Users/ortol/miniforge3/lib/python3.12/site-packages (from sympy==1.13.1->torch<3.0,>=2.3->stable-baselines3) (1.3.0)\n",
      "Requirement already satisfied: contourpy>=1.0.1 in /Users/ortol/miniforge3/lib/python3.12/site-packages (from matplotlib->stable-baselines3) (1.3.1)\n",
      "Requirement already satisfied: cycler>=0.10 in /Users/ortol/miniforge3/lib/python3.12/site-packages (from matplotlib->stable-baselines3) (0.12.1)\n",
      "Requirement already satisfied: fonttools>=4.22.0 in /Users/ortol/miniforge3/lib/python3.12/site-packages (from matplotlib->stable-baselines3) (4.56.0)\n",
      "Requirement already satisfied: kiwisolver>=1.3.1 in /Users/ortol/miniforge3/lib/python3.12/site-packages (from matplotlib->stable-baselines3) (1.4.8)\n",
      "Requirement already satisfied: packaging>=20.0 in /Users/ortol/miniforge3/lib/python3.12/site-packages (from matplotlib->stable-baselines3) (24.1)\n",
      "Requirement already satisfied: pillow>=8 in /Users/ortol/miniforge3/lib/python3.12/site-packages (from matplotlib->stable-baselines3) (11.1.0)\n",
      "Requirement already satisfied: pyparsing>=2.3.1 in /Users/ortol/miniforge3/lib/python3.12/site-packages (from matplotlib->stable-baselines3) (3.2.1)\n",
      "Requirement already satisfied: python-dateutil>=2.7 in /Users/ortol/miniforge3/lib/python3.12/site-packages (from matplotlib->stable-baselines3) (2.9.0.post0)\n",
      "Requirement already satisfied: pytz>=2020.1 in /Users/ortol/miniforge3/lib/python3.12/site-packages (from pandas->stable-baselines3) (2025.1)\n",
      "Requirement already satisfied: tzdata>=2022.7 in /Users/ortol/miniforge3/lib/python3.12/site-packages (from pandas->stable-baselines3) (2025.1)\n",
      "Requirement already satisfied: six>=1.5 in /Users/ortol/miniforge3/lib/python3.12/site-packages (from python-dateutil>=2.7->matplotlib->stable-baselines3) (1.17.0)\n",
      "Requirement already satisfied: MarkupSafe>=2.0 in /Users/ortol/miniforge3/lib/python3.12/site-packages (from jinja2->torch<3.0,>=2.3->stable-baselines3) (3.0.2)\n"
     ]
    }
   ],
   "source": [
    "!pip install gym pybullet numpy stable-baselines3"
   ]
  },
  {
   "cell_type": "code",
   "execution_count": null,
   "metadata": {},
   "outputs": [
    {
     "name": "stdout",
     "output_type": "stream",
     "text": [
      "Requirement already satisfied: gym in /Users/ortol/miniforge3/lib/python3.12/site-packages (0.26.2)\n",
      "Requirement already satisfied: numpy>=1.18.0 in /Users/ortol/miniforge3/lib/python3.12/site-packages (from gym) (2.2.3)\n",
      "Requirement already satisfied: cloudpickle>=1.2.0 in /Users/ortol/miniforge3/lib/python3.12/site-packages (from gym) (3.1.1)\n",
      "Requirement already satisfied: gym_notices>=0.0.4 in /Users/ortol/miniforge3/lib/python3.12/site-packages (from gym) (0.0.8)\n"
     ]
    }
   ],
   "source": [
    "!pip install gym"
   ]
  },
  {
   "cell_type": "code",
   "execution_count": 5,
   "metadata": {},
   "outputs": [
    {
     "name": "stdout",
     "output_type": "stream",
     "text": [
      "Collecting shimmy>=2.0\n",
      "  Downloading Shimmy-2.0.0-py3-none-any.whl.metadata (3.5 kB)\n",
      "Requirement already satisfied: numpy>=1.18.0 in /Users/ortol/miniforge3/lib/python3.12/site-packages (from shimmy>=2.0) (2.2.3)\n",
      "Requirement already satisfied: gymnasium>=1.0.0a1 in /Users/ortol/miniforge3/lib/python3.12/site-packages (from shimmy>=2.0) (1.0.0)\n",
      "Requirement already satisfied: cloudpickle>=1.2.0 in /Users/ortol/miniforge3/lib/python3.12/site-packages (from gymnasium>=1.0.0a1->shimmy>=2.0) (3.1.1)\n",
      "Requirement already satisfied: typing-extensions>=4.3.0 in /Users/ortol/miniforge3/lib/python3.12/site-packages (from gymnasium>=1.0.0a1->shimmy>=2.0) (4.12.2)\n",
      "Requirement already satisfied: farama-notifications>=0.0.1 in /Users/ortol/miniforge3/lib/python3.12/site-packages (from gymnasium>=1.0.0a1->shimmy>=2.0) (0.0.4)\n",
      "Downloading Shimmy-2.0.0-py3-none-any.whl (30 kB)\n",
      "Installing collected packages: shimmy\n",
      "Successfully installed shimmy-2.0.0\n"
     ]
    }
   ],
   "source": [
    "!pip install 'shimmy>=2.0'"
   ]
  },
  {
   "cell_type": "code",
   "execution_count": 1,
   "metadata": {},
   "outputs": [
    {
     "name": "stderr",
     "output_type": "stream",
     "text": [
      "pybullet build time: Mar 18 2025 08:09:30\n"
     ]
    }
   ],
   "source": [
    "import pybullet as p\n",
    "import pybullet_data\n",
    "import gym\n",
    "import numpy as np\n",
    "from gym import spaces\n",
    "\n",
    "class DroneEnv(gym.Env):\n",
    "    def __init__(self):\n",
    "        super(DroneEnv, self).__init__()\n",
    "\n",
    "        # Connect using DIRECT mode (no GUI)\n",
    "        self.physicsClient = p.connect(p.GUI)  \n",
    "\n",
    "        p.setAdditionalSearchPath(pybullet_data.getDataPath())\n",
    "        p.setGravity(0, 0, -9.8)\n",
    "\n",
    "        # Load drone model\n",
    "        self.drone = p.loadURDF(\"samurai.urdf\", basePosition=[0, 0, 1])\n",
    "\n",
    "        # Define action and observation spaces\n",
    "        self.action_space = spaces.Box(low=np.array([0, 0, 0]), high=np.array([10, 10, 10]), dtype=np.float32)\n",
    "        self.observation_space = spaces.Box(low=-np.inf, high=np.inf, shape=(6,), dtype=np.float32)\n",
    "\n",
    "        self.target_position = np.array([5, 5, 5])\n",
    "        self.state = np.zeros(6)\n",
    "\n",
    "    def step(self, action):\n",
    "        \"\"\"Apply PID gains and simulate drone dynamics.\"\"\"\n",
    "        Kp, Ki, Kd = action\n",
    "        pos, orn = p.getBasePositionAndOrientation(self.drone)\n",
    "        vel, ang_vel = p.getBaseVelocity(self.drone)\n",
    "\n",
    "        error = self.target_position - np.array(pos)\n",
    "        force = Kp * error - Kd * np.array(vel)\n",
    "        p.applyExternalForce(self.drone, -1, force, [0, 0, 0], p.WORLD_FRAME)\n",
    "\n",
    "        self.state = np.hstack((pos, ang_vel))\n",
    "        reward = -np.linalg.norm(error)\n",
    "        done = np.linalg.norm(error) < 0.1\n",
    "\n",
    "        return self.state, reward, done, {}\n",
    "\n",
    "    def reset(self):\n",
    "        \"\"\"Reset drone to initial position.\"\"\"\n",
    "        p.resetBasePositionAndOrientation(self.drone, [0, 0, 1], [0, 0, 0, 1])\n",
    "        self.state = np.zeros(6)\n",
    "        return self.state\n",
    "    \n",
    "    def render(self, mode=\"human\"):\n",
    "        \"\"\"Refresh the PyBullet GUI.\"\"\"\n",
    "        p.stepSimulation()  # Ensure simulation updates in GUI\n",
    "\n",
    "\n",
    "    def close(self):\n",
    "        p.disconnect()\n"
   ]
  },
  {
   "cell_type": "code",
   "execution_count": null,
   "metadata": {},
   "outputs": [],
   "source": [
    "# Train PPO Agent\n",
    "from stable_baselines3 import PPO\n",
    "\n",
    "env = DroneEnv()\n",
    "model = PPO(\"MlpPolicy\", env, verbose=1)\n",
    "model.learn(total_timesteps=100000)\n",
    "model.save(\"drone_pid_ppo\")"
   ]
  },
  {
   "cell_type": "code",
   "execution_count": null,
   "metadata": {},
   "outputs": [
    {
     "name": "stdout",
     "output_type": "stream",
     "text": [
      "Version = 4.1 Metal - 89.3\n",
      "Vendor = Apple\n",
      "Renderer = Apple M3\n",
      "b3Printf: Selected demo: Physics Server\n",
      "startThreads creating 1 threads.\n",
      "starting thread 0\n",
      "started thread 0 \n",
      "MotionThreadFunc thread started\n"
     ]
    },
    {
     "name": "stderr",
     "output_type": "stream",
     "text": [
      "/Users/ortol/miniforge3/lib/python3.12/site-packages/gym/spaces/box.py:127: UserWarning: \u001b[33mWARN: Box bound precision lowered by casting to float32\u001b[0m\n",
      "  logger.warn(f\"Box bound precision lowered by casting to {self.dtype}\")\n"
     ]
    },
    {
     "name": "stdout",
     "output_type": "stream",
     "text": [
      "numActiveThreads = 0\n",
      "stopping threads\n",
      "Thread with taskId 0 exiting\n",
      "Thread TERMINATED\n",
      "destroy semaphore\n",
      "semaphore destroyed\n",
      "destroy main semaphore\n",
      "main semaphore destroyed\n"
     ]
    },
    {
     "ename": "",
     "evalue": "",
     "output_type": "error",
     "traceback": [
      "\u001b[1;31mThe Kernel crashed while executing code in the current cell or a previous cell. \n",
      "\u001b[1;31mPlease review the code in the cell(s) to identify a possible cause of the failure. \n",
      "\u001b[1;31mClick <a href='https://aka.ms/vscodeJupyterKernelCrash'>here</a> for more info. \n",
      "\u001b[1;31mView Jupyter <a href='command:jupyter.viewOutput'>log</a> for further details."
     ]
    }
   ],
   "source": [
    "DroneEnv().close()"
   ]
  },
  {
   "cell_type": "code",
   "execution_count": null,
   "metadata": {},
   "outputs": [
    {
     "name": "stdout",
     "output_type": "stream",
     "text": [
      "Version = 4.1 Metal - 89.3\n",
      "Vendor = Apple\n",
      "Renderer = Apple M3\n",
      "b3Printf: Selected demo: Physics Server\n",
      "startThreads creating 1 threads.\n",
      "starting thread 0\n",
      "started thread 0 \n",
      "MotionThreadFunc thread started\n"
     ]
    },
    {
     "name": "stderr",
     "output_type": "stream",
     "text": [
      "/Users/ortol/miniforge3/lib/python3.12/site-packages/gym/spaces/box.py:127: UserWarning: \u001b[33mWARN: Box bound precision lowered by casting to float32\u001b[0m\n",
      "  logger.warn(f\"Box bound precision lowered by casting to {self.dtype}\")\n"
     ]
    },
    {
     "ename": "",
     "evalue": "",
     "output_type": "error",
     "traceback": [
      "\u001b[1;31mThe Kernel crashed while executing code in the current cell or a previous cell. \n",
      "\u001b[1;31mPlease review the code in the cell(s) to identify a possible cause of the failure. \n",
      "\u001b[1;31mClick <a href='https://aka.ms/vscodeJupyterKernelCrash'>here</a> for more info. \n",
      "\u001b[1;31mView Jupyter <a href='command:jupyter.viewOutput'>log</a> for further details."
     ]
    }
   ],
   "source": [
    "from stable_baselines3 import PPO\n",
    "import time\n",
    "\n",
    "# Load the trained model\n",
    "model = PPO.load(\"drone_pid_ppo\")\n",
    "\n",
    "# Create environment\n",
    "env = DroneEnv()\n",
    "\n",
    "# Run simulation using the trained model\n",
    "obs = env.reset()\n",
    "for _ in range(1000):  # Simulate for 1000 steps\n",
    "    action, _ = model.predict(obs)  # Use the trained model to get actions\n",
    "    obs, reward, done, _ = env.step(action)  # Apply the action\n",
    "    env.render()  # Show drone movement\n",
    "    time.sleep(0.05)\n",
    "    if done:\n",
    "        obs = env.reset()\n",
    "\n"
   ]
  }
 ],
 "metadata": {
  "kernelspec": {
   "display_name": "base",
   "language": "python",
   "name": "python3"
  },
  "language_info": {
   "codemirror_mode": {
    "name": "ipython",
    "version": 3
   },
   "file_extension": ".py",
   "mimetype": "text/x-python",
   "name": "python",
   "nbconvert_exporter": "python",
   "pygments_lexer": "ipython3",
   "version": "3.12.7"
  }
 },
 "nbformat": 4,
 "nbformat_minor": 2
}
